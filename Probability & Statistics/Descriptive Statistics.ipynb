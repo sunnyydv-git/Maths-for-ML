{
 "cells": [
  {
   "cell_type": "markdown",
   "id": "405631cd-7572-40eb-8706-4a4544855924",
   "metadata": {},
   "source": [
    "### Measures of Central Tendency\n",
    "#### Mean"
   ]
  },
  {
   "cell_type": "code",
   "execution_count": 1,
   "id": "3daa7944-72f6-4f35-9945-0512440a27a2",
   "metadata": {},
   "outputs": [
    {
     "name": "stdout",
     "output_type": "stream",
     "text": [
      "Mean Salary: $72000.00\n"
     ]
    }
   ],
   "source": [
    "# Finding the average salary of employees in a dataset.\n",
    "\n",
    "import numpy as np\n",
    "\n",
    "salaries = [50000, 60000, 75000, 80000, 95000]\n",
    "mean_salary = np.mean(salaries)\n",
    "print(f\"Mean Salary: ${mean_salary:.2f}\")"
   ]
  },
  {
   "cell_type": "markdown",
   "id": "0a807169-6cf6-48f7-bee3-186835d661db",
   "metadata": {},
   "source": [
    "#### Median (Middle Value)"
   ]
  },
  {
   "cell_type": "code",
   "execution_count": 2,
   "id": "fe13a78c-b259-4a3a-8fdb-3eb31a617710",
   "metadata": {},
   "outputs": [
    {
     "name": "stdout",
     "output_type": "stream",
     "text": [
      "Median Salary: $75000.00\n"
     ]
    }
   ],
   "source": [
    "median_salary = np.median(salaries)\n",
    "print(f\"Median Salary: ${median_salary:.2f}\")"
   ]
  },
  {
   "cell_type": "markdown",
   "id": "63906cda-7290-4172-983f-620692f31c73",
   "metadata": {},
   "source": [
    "#### Mode (Most Frequent Value)"
   ]
  },
  {
   "cell_type": "code",
   "execution_count": 3,
   "id": "b89a1155-6a4d-418e-ae33-acd698dfe304",
   "metadata": {},
   "outputs": [
    {
     "name": "stdout",
     "output_type": "stream",
     "text": [
      "Mode: 3, Count: 4\n"
     ]
    },
    {
     "name": "stderr",
     "output_type": "stream",
     "text": [
      "C:\\Users\\sunny\\AppData\\Local\\Temp\\ipykernel_11092\\2762406373.py:6: FutureWarning: Unlike other reduction functions (e.g. `skew`, `kurtosis`), the default behavior of `mode` typically preserves the axis it acts along. In SciPy 1.11.0, this behavior will change: the default value of `keepdims` will become False, the `axis` over which the statistic is taken will be eliminated, and the value None will no longer be accepted. Set `keepdims` to True or False to avoid this warning.\n",
      "  mode_product = stats.mode(products_sold)\n"
     ]
    }
   ],
   "source": [
    "from scipy import stats\n",
    "\n",
    "products_sold = [3, 3, 5, 2, 3, 8, 10, 8, 3, 5]\n",
    "\n",
    "# calculate mode\n",
    "mode_product = stats.mode(products_sold)\n",
    "print(f\"Mode: {mode_product.mode[0]}, Count: {mode_product.count[0]}\")"
   ]
  },
  {
   "cell_type": "markdown",
   "id": "a0e16726-ed3b-4031-be84-69cf4e7454f8",
   "metadata": {},
   "source": [
    "### Measures of Dispersion (Variability in Data)\n",
    "#### Range (Max - Min)"
   ]
  },
  {
   "cell_type": "code",
   "execution_count": 4,
   "id": "99715230-79a6-4fa3-a464-d661b57f7979",
   "metadata": {},
   "outputs": [
    {
     "name": "stdout",
     "output_type": "stream",
     "text": [
      "Range of Salaries: $45000\n"
     ]
    }
   ],
   "source": [
    "range_salary = np.max(salaries) - np.min(salaries)\n",
    "print(f\"Range of Salaries: ${range_salary}\")"
   ]
  },
  {
   "cell_type": "markdown",
   "id": "870d73fc-1a2a-4ce8-be2d-63b946b858b2",
   "metadata": {},
   "source": [
    "#### Variance"
   ]
  },
  {
   "cell_type": "code",
   "execution_count": 5,
   "id": "31e4b19b-36b4-420d-82c1-611a00e91eb5",
   "metadata": {},
   "outputs": [
    {
     "name": "stdout",
     "output_type": "stream",
     "text": [
      "Variance of Salaries: $246000000.00\n"
     ]
    }
   ],
   "source": [
    "# Calculate Variance\n",
    "variance_salary = np.var(salaries, ddof=0)  # ddof=0 for population variance\n",
    "print(f\"Variance of Salaries: ${variance_salary:.2f}\")"
   ]
  },
  {
   "cell_type": "markdown",
   "id": "fa5c86d7-d80f-47c0-bd54-c39d5b6006f8",
   "metadata": {},
   "source": [
    "#### Standard Deviation"
   ]
  },
  {
   "cell_type": "code",
   "execution_count": 7,
   "id": "2febbdda-d3d0-46bf-b141-d53991eb16d6",
   "metadata": {},
   "outputs": [
    {
     "name": "stdout",
     "output_type": "stream",
     "text": [
      "Standard Deviation: $15684.39\n"
     ]
    }
   ],
   "source": [
    "sd_salary = np.std(salaries, ddof = 0)\n",
    "print(f\"Standard Deviation: ${sd_salary:.2f}\")"
   ]
  },
  {
   "cell_type": "markdown",
   "id": "8c131681-6e9e-4b88-8bdc-c90fa82c1057",
   "metadata": {},
   "source": [
    "#### Interquantlie Range (IQR)"
   ]
  },
  {
   "cell_type": "code",
   "execution_count": 8,
   "id": "5d9649bc-16c5-4024-87ce-d834936a95cb",
   "metadata": {},
   "outputs": [
    {
     "name": "stdout",
     "output_type": "stream",
     "text": [
      "Interquartile Range (IQR): $20000.00\n"
     ]
    }
   ],
   "source": [
    "q1 = np.percentile(salaries, 25)\n",
    "q3 = np.percentile(salaries, 75)\n",
    "iqr = q3 - q1\n",
    "print(f\"Interquartile Range (IQR): ${iqr:.2f}\")"
   ]
  },
  {
   "cell_type": "markdown",
   "id": "340bb7d8-84f4-4fb7-9fb2-b6b686af0709",
   "metadata": {},
   "source": [
    "#### Z-Score Normalization"
   ]
  },
  {
   "cell_type": "code",
   "execution_count": 9,
   "id": "864a01fa-26a3-4f00-8690-2f6a81fb651a",
   "metadata": {},
   "outputs": [
    {
     "name": "stdout",
     "output_type": "stream",
     "text": [
      "[-1.40266877 -0.76509206  0.19127301  0.51006137  1.46642644]\n"
     ]
    }
   ],
   "source": [
    "z = (salaries - mean_salary) / sd_salary\n",
    "print(z)"
   ]
  },
  {
   "cell_type": "code",
   "execution_count": null,
   "id": "d023a1a3-e6fc-45e2-8959-87c5211b3b14",
   "metadata": {},
   "outputs": [],
   "source": []
  }
 ],
 "metadata": {
  "kernelspec": {
   "display_name": "Python 3 (ipykernel)",
   "language": "python",
   "name": "python3"
  },
  "language_info": {
   "codemirror_mode": {
    "name": "ipython",
    "version": 3
   },
   "file_extension": ".py",
   "mimetype": "text/x-python",
   "name": "python",
   "nbconvert_exporter": "python",
   "pygments_lexer": "ipython3",
   "version": "3.8.20"
  }
 },
 "nbformat": 4,
 "nbformat_minor": 5
}
