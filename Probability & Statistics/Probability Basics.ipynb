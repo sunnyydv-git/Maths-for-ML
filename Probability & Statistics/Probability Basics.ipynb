{
 "cells": [
  {
   "cell_type": "markdown",
   "id": "5b3639a4-37eb-49de-bc17-2d501aaa847a",
   "metadata": {},
   "source": [
    "#### Sample Space, Events & Probability Calculation\n"
   ]
  },
  {
   "cell_type": "code",
   "execution_count": 1,
   "id": "32dbcd3d-db75-41b5-bbe0-5c33ca9b1f48",
   "metadata": {},
   "outputs": [
    {
     "name": "stdout",
     "output_type": "stream",
     "text": [
      "Coin Toss Outcome: Tails\n",
      "Probability of Heads: 0.5\n",
      "Probability of Tails: 0.5\n"
     ]
    }
   ],
   "source": [
    "# simulating a coin toss\n",
    "\n",
    "import random\n",
    "\n",
    "# Define the sample space\n",
    "sample_space = [\"Heads\", \"Tails\"]\n",
    "\n",
    "# Simulate a coin toss\n",
    "coin_toss = random.choice(sample_space)\n",
    "print(f\"Coin Toss Outcome: {coin_toss}\")\n",
    "\n",
    "# Probability Calculation\n",
    "P_heads = sample_space.count(\"Heads\") / len(sample_space)\n",
    "P_tails = sample_space.count(\"Tails\") / len(sample_space)\n",
    "\n",
    "print(f\"Probability of Heads: {P_heads}\")\n",
    "print(f\"Probability of Tails: {P_tails}\")"
   ]
  },
  {
   "cell_type": "markdown",
   "id": "96889be3-b055-4551-9f6c-5e8b29d42e47",
   "metadata": {},
   "source": [
    "#### Empirical Probability – Simulating Dice Rolls"
   ]
  },
  {
   "cell_type": "code",
   "execution_count": 2,
   "id": "7e3e9228-de42-4b4d-ab66-9d81ed414380",
   "metadata": {},
   "outputs": [
    {
     "name": "stdout",
     "output_type": "stream",
     "text": [
      "Empirical Probability of rolling 1: 0.1726\n",
      "Empirical Probability of rolling 2: 0.1633\n",
      "Empirical Probability of rolling 3: 0.1644\n",
      "Empirical Probability of rolling 4: 0.1659\n",
      "Empirical Probability of rolling 5: 0.1689\n",
      "Empirical Probability of rolling 6: 0.1649\n"
     ]
    }
   ],
   "source": [
    "# Rolling a Six-Sided Die\n",
    "\n",
    "import numpy as np\n",
    "\n",
    "# Simulate rolling a die 10,000 times\n",
    "n_rolls = 10000\n",
    "die_rolls = np.random.randint(1, 7, size=n_rolls)  # 1 to 6\n",
    "\n",
    "for i in range(1, 7):\n",
    "    prob = np.sum(die_rolls == i) / n_rolls\n",
    "    print(f\"Empirical Probability of rolling {i}: {prob:.4f}\")"
   ]
  },
  {
   "cell_type": "markdown",
   "id": "42fcaa46-36c5-40ba-a8ef-6df5606f2bde",
   "metadata": {},
   "source": [
    "#### Conditional Probability Calculation"
   ]
  },
  {
   "cell_type": "code",
   "execution_count": 3,
   "id": "b593eb74-d3e7-4e11-8120-ea5e521f78ba",
   "metadata": {},
   "outputs": [
    {
     "name": "stdout",
     "output_type": "stream",
     "text": [
      "Probability of drawing a King given it's a Face Card: 0.333\n"
     ]
    }
   ],
   "source": [
    "# Total number of cards in the deck\n",
    "total_cards = 52\n",
    "\n",
    "# Number of face cards (J, Q, K)\n",
    "face_cards = 12  \n",
    "\n",
    "# Number of Kings\n",
    "kings = 4  \n",
    "\n",
    "P_B = face_cards/ total_cards\n",
    "P_A_intersect_B = kings / total_cards\n",
    "P_A_given_B = P_A_intersect_B/ P_B\n",
    "print(f\"Probability of drawing a King given it's a Face Card: {P_A_given_B:.3f}\")"
   ]
  },
  {
   "cell_type": "markdown",
   "id": "da460167-d3bd-4d9f-8bba-03143162500f",
   "metadata": {},
   "source": [
    "#### Bayes’ Theorem – Spam Classification Example"
   ]
  },
  {
   "cell_type": "code",
   "execution_count": 4,
   "id": "b8f0e38d-6029-4af7-b268-8294f708312b",
   "metadata": {},
   "outputs": [
    {
     "name": "stdout",
     "output_type": "stream",
     "text": [
      "Spam Probability: 0.7959183673469388\n"
     ]
    }
   ],
   "source": [
    "from sklearn.naive_bayes import MultinomialNB\n",
    "from sklearn.feature_extraction.text import CountVectorizer\n",
    "\n",
    "# Sample email dataset\n",
    "emails = [\"win money now\", \"meeting at 5\", \"limited time offer\", \"urgent payment required\"]\n",
    "labels = [1, 0, 1, 1]  # 1 = Spam, 0 = Not Spam\n",
    "\n",
    "# Convert text to numerical format\n",
    "vectorizer = CountVectorizer()\n",
    "X = vectorizer.fit_transform(emails)\n",
    "\n",
    "# Train Naive Bayes model\n",
    "model = MultinomialNB()\n",
    "model.fit(X, labels)\n",
    "\n",
    "# Predict probability of new email\n",
    "new_email = [\"get money fast\"]\n",
    "X_new = vectorizer.transform(new_email)\n",
    "print(\"Spam Probability:\", model.predict_proba(X_new)[:,1][0])"
   ]
  },
  {
   "cell_type": "markdown",
   "id": "79c3b111-0c6f-4f34-817a-ac67e7b06554",
   "metadata": {},
   "source": [
    "#### Law of Total Probability"
   ]
  },
  {
   "cell_type": "code",
   "execution_count": 5,
   "id": "1704d20b-212c-4926-9829-918c630d6c85",
   "metadata": {},
   "outputs": [
    {
     "name": "stdout",
     "output_type": "stream",
     "text": [
      "Total Probability of Positive Test: 0.0590\n"
     ]
    }
   ],
   "source": [
    "# Medical Test Result Calculation\n",
    "\n",
    "# Given probabilities\n",
    "P_disease = 0.01  # Probability of having the disease\n",
    "P_no_disease = 1 - P_disease\n",
    "\n",
    "P_positive_given_disease = 0.95  # Sensitivity\n",
    "P_positive_given_no_disease = 0.05  # False positive rate\n",
    "\n",
    "# Total probability of a positive test\n",
    "P_positive = (P_positive_given_disease * P_disease) + (P_positive_given_no_disease * P_no_disease)\n",
    "print(f\"Total Probability of Positive Test: {P_positive:.4f}\")\n"
   ]
  },
  {
   "cell_type": "markdown",
   "id": "e5fd6373-0bce-4e95-842a-80c2d3532eed",
   "metadata": {},
   "source": [
    "#### Independence Vs Dependence"
   ]
  },
  {
   "cell_type": "code",
   "execution_count": 6,
   "id": "8652c6dd-e19d-4a9a-b97c-6fffde3949be",
   "metadata": {},
   "outputs": [
    {
     "name": "stdout",
     "output_type": "stream",
     "text": [
      "Coin Toss: Tails, Dice Roll: 5\n"
     ]
    }
   ],
   "source": [
    "# Independent event: Coin toss + Dice roll\n",
    "coin_outcomes = [\"Heads\", \"Tails\"]\n",
    "die_outcomes = [1, 2, 3, 4, 5, 6]\n",
    "\n",
    "# Simulating an independent event (coin toss and dice roll)\n",
    "coin_result = random.choice(coin_outcomes)\n",
    "die_result = random.choice(die_outcomes)\n",
    "\n",
    "print(f\"Coin Toss: {coin_result}, Dice Roll: {die_result}\")\n"
   ]
  },
  {
   "cell_type": "markdown",
   "id": "408ceb4d-9577-48dc-bd58-25165f827875",
   "metadata": {},
   "source": [
    "#### Markov Model Simulation (For Dependent Events)"
   ]
  },
  {
   "cell_type": "code",
   "execution_count": 7,
   "id": "9f21fac7-f155-4eb2-868c-13b99909292c",
   "metadata": {},
   "outputs": [
    {
     "name": "stdout",
     "output_type": "stream",
     "text": [
      "Day 1: Rainy\n",
      "Day 2: Sunny\n",
      "Day 3: Sunny\n",
      "Day 4: Rainy\n",
      "Day 5: Rainy\n",
      "Day 6: Rainy\n",
      "Day 7: Sunny\n",
      "Day 8: Sunny\n",
      "Day 9: Rainy\n",
      "Day 10: Rainy\n"
     ]
    }
   ],
   "source": [
    "# Markov Chain for Weather Prediction\n",
    "\n",
    "import numpy as np\n",
    "\n",
    "# Transition matrix (Rainy, Sunny)\n",
    "transition_matrix = np.array([[0.7, 0.3],  # P(Rain|Rain), P(Sun|Rain)\n",
    "                              [0.4, 0.6]]) # P(Rain|Sun), P(Sun|Sun)\n",
    "\n",
    "states = [\"Rainy\", \"Sunny\"]\n",
    "current_state = 0  # Start with Rainy\n",
    "\n",
    "# Simulate 10 days of weather\n",
    "for i in range(10):\n",
    "    next_state = np.random.choice([0, 1], p=transition_matrix[current_state])\n",
    "    print(f\"Day {i+1}: {states[next_state]}\")\n",
    "    current_state = next_state\n"
   ]
  },
  {
   "cell_type": "code",
   "execution_count": null,
   "id": "0d50c6c5-1461-4fb6-9441-1ba8a8cc096d",
   "metadata": {},
   "outputs": [],
   "source": []
  }
 ],
 "metadata": {
  "kernelspec": {
   "display_name": "Python 3 (ipykernel)",
   "language": "python",
   "name": "python3"
  },
  "language_info": {
   "codemirror_mode": {
    "name": "ipython",
    "version": 3
   },
   "file_extension": ".py",
   "mimetype": "text/x-python",
   "name": "python",
   "nbconvert_exporter": "python",
   "pygments_lexer": "ipython3",
   "version": "3.8.20"
  }
 },
 "nbformat": 4,
 "nbformat_minor": 5
}
